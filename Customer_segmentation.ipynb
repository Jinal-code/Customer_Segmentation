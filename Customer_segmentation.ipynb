{
 "cells": [
  {
   "cell_type": "code",
   "execution_count": 4,
   "metadata": {},
   "outputs": [],
   "source": [
    "import pandas as pd\n",
    "import numpy as np\n",
    "import matplotlib.pyplot as plt"
   ]
  },
  {
   "cell_type": "code",
   "execution_count": 16,
   "metadata": {},
   "outputs": [],
   "source": [
    "df = pd.read_csv('C:/Users/yashs/Case.csv')"
   ]
  },
  {
   "cell_type": "code",
   "execution_count": 17,
   "metadata": {},
   "outputs": [
    {
     "data": {
      "text/html": [
       "<div>\n",
       "<style scoped>\n",
       "    .dataframe tbody tr th:only-of-type {\n",
       "        vertical-align: middle;\n",
       "    }\n",
       "\n",
       "    .dataframe tbody tr th {\n",
       "        vertical-align: top;\n",
       "    }\n",
       "\n",
       "    .dataframe thead th {\n",
       "        text-align: right;\n",
       "    }\n",
       "</style>\n",
       "<table border=\"1\" class=\"dataframe\">\n",
       "  <thead>\n",
       "    <tr style=\"text-align: right;\">\n",
       "      <th></th>\n",
       "      <th>Retailer Name</th>\n",
       "      <th>Brand1</th>\n",
       "      <th>Brand2</th>\n",
       "      <th>Brand3</th>\n",
       "      <th>Brand4</th>\n",
       "      <th>Brand5</th>\n",
       "      <th>Brand6</th>\n",
       "      <th>Brand7</th>\n",
       "      <th>Brand8</th>\n",
       "      <th>Brand9</th>\n",
       "      <th>Brand10</th>\n",
       "      <th>Brand11</th>\n",
       "      <th>Brand12</th>\n",
       "      <th>Total Sales</th>\n",
       "      <th>Number of Brands</th>\n",
       "      <th>Category of Retailer</th>\n",
       "    </tr>\n",
       "  </thead>\n",
       "  <tbody>\n",
       "    <tr>\n",
       "      <th>0</th>\n",
       "      <td>Retailer 1</td>\n",
       "      <td>0.0000</td>\n",
       "      <td>0.0</td>\n",
       "      <td>0.0</td>\n",
       "      <td>0.000</td>\n",
       "      <td>0.0000</td>\n",
       "      <td>0.0</td>\n",
       "      <td>0.0</td>\n",
       "      <td>0.0</td>\n",
       "      <td>0.000</td>\n",
       "      <td>30826.61</td>\n",
       "      <td>0.0</td>\n",
       "      <td>0.0</td>\n",
       "      <td>30826.6100</td>\n",
       "      <td>1</td>\n",
       "      <td>NaN</td>\n",
       "    </tr>\n",
       "    <tr>\n",
       "      <th>1</th>\n",
       "      <td>Retailer 2</td>\n",
       "      <td>9833.1060</td>\n",
       "      <td>0.0</td>\n",
       "      <td>0.0</td>\n",
       "      <td>24073.632</td>\n",
       "      <td>33806.4312</td>\n",
       "      <td>0.0</td>\n",
       "      <td>0.0</td>\n",
       "      <td>0.0</td>\n",
       "      <td>0.000</td>\n",
       "      <td>0.00</td>\n",
       "      <td>0.0</td>\n",
       "      <td>0.0</td>\n",
       "      <td>67713.1692</td>\n",
       "      <td>3</td>\n",
       "      <td>NaN</td>\n",
       "    </tr>\n",
       "    <tr>\n",
       "      <th>2</th>\n",
       "      <td>Retailer 3</td>\n",
       "      <td>24690.6708</td>\n",
       "      <td>0.0</td>\n",
       "      <td>0.0</td>\n",
       "      <td>0.000</td>\n",
       "      <td>27367.0386</td>\n",
       "      <td>0.0</td>\n",
       "      <td>0.0</td>\n",
       "      <td>0.0</td>\n",
       "      <td>12948.696</td>\n",
       "      <td>0.00</td>\n",
       "      <td>0.0</td>\n",
       "      <td>0.0</td>\n",
       "      <td>65006.4054</td>\n",
       "      <td>3</td>\n",
       "      <td>NaN</td>\n",
       "    </tr>\n",
       "    <tr>\n",
       "      <th>3</th>\n",
       "      <td>Retailer 4</td>\n",
       "      <td>0.0000</td>\n",
       "      <td>0.0</td>\n",
       "      <td>0.0</td>\n",
       "      <td>0.000</td>\n",
       "      <td>0.0000</td>\n",
       "      <td>0.0</td>\n",
       "      <td>0.0</td>\n",
       "      <td>0.0</td>\n",
       "      <td>0.000</td>\n",
       "      <td>0.00</td>\n",
       "      <td>0.0</td>\n",
       "      <td>0.0</td>\n",
       "      <td>0.0000</td>\n",
       "      <td>0</td>\n",
       "      <td>NaN</td>\n",
       "    </tr>\n",
       "    <tr>\n",
       "      <th>4</th>\n",
       "      <td>Retailer 5</td>\n",
       "      <td>0.0000</td>\n",
       "      <td>0.0</td>\n",
       "      <td>0.0</td>\n",
       "      <td>0.000</td>\n",
       "      <td>0.0000</td>\n",
       "      <td>0.0</td>\n",
       "      <td>0.0</td>\n",
       "      <td>0.0</td>\n",
       "      <td>0.000</td>\n",
       "      <td>0.00</td>\n",
       "      <td>0.0</td>\n",
       "      <td>0.0</td>\n",
       "      <td>0.0000</td>\n",
       "      <td>0</td>\n",
       "      <td>NaN</td>\n",
       "    </tr>\n",
       "  </tbody>\n",
       "</table>\n",
       "</div>"
      ],
      "text/plain": [
       "  Retailer Name      Brand1  Brand2  Brand3     Brand4      Brand5  Brand6  \\\n",
       "0    Retailer 1      0.0000     0.0     0.0      0.000      0.0000     0.0   \n",
       "1    Retailer 2   9833.1060     0.0     0.0  24073.632  33806.4312     0.0   \n",
       "2    Retailer 3  24690.6708     0.0     0.0      0.000  27367.0386     0.0   \n",
       "3    Retailer 4      0.0000     0.0     0.0      0.000      0.0000     0.0   \n",
       "4    Retailer 5      0.0000     0.0     0.0      0.000      0.0000     0.0   \n",
       "\n",
       "   Brand7  Brand8     Brand9   Brand10  Brand11  Brand12  Total Sales  \\\n",
       "0     0.0     0.0      0.000  30826.61      0.0      0.0   30826.6100   \n",
       "1     0.0     0.0      0.000      0.00      0.0      0.0   67713.1692   \n",
       "2     0.0     0.0  12948.696      0.00      0.0      0.0   65006.4054   \n",
       "3     0.0     0.0      0.000      0.00      0.0      0.0       0.0000   \n",
       "4     0.0     0.0      0.000      0.00      0.0      0.0       0.0000   \n",
       "\n",
       "   Number of Brands  Category of Retailer  \n",
       "0                 1                   NaN  \n",
       "1                 3                   NaN  \n",
       "2                 3                   NaN  \n",
       "3                 0                   NaN  \n",
       "4                 0                   NaN  "
      ]
     },
     "execution_count": 17,
     "metadata": {},
     "output_type": "execute_result"
    }
   ],
   "source": [
    "df.head()"
   ]
  },
  {
   "cell_type": "code",
   "execution_count": 18,
   "metadata": {},
   "outputs": [
    {
     "name": "stdout",
     "output_type": "stream",
     "text": [
      "Retailer Name              0\n",
      "Brand1                     0\n",
      "Brand2                     0\n",
      "Brand3                     0\n",
      "Brand4                     0\n",
      "Brand5                     0\n",
      "Brand6                     0\n",
      "Brand7                     0\n",
      "Brand8                     0\n",
      "Brand9                     0\n",
      "Brand10                    0\n",
      "Brand11                    0\n",
      "Brand12                    0\n",
      "Total Sales                0\n",
      "Number of Brands           0\n",
      "Category of Retailer    9938\n",
      "dtype: int64\n"
     ]
    }
   ],
   "source": [
    "print(df.isnull().sum())"
   ]
  },
  {
   "cell_type": "code",
   "execution_count": 33,
   "metadata": {},
   "outputs": [],
   "source": [
    "X = df.values[:,[-3,-2]]"
   ]
  },
  {
   "cell_type": "code",
   "execution_count": 34,
   "metadata": {},
   "outputs": [
    {
     "name": "stdout",
     "output_type": "stream",
     "text": [
      "[[30826.61 1]\n",
      " [67713.1692 3]\n",
      " [65006.4054 3]\n",
      " ...\n",
      " [0.0 0]\n",
      " [48324.574 2]\n",
      " [0.0 0]]\n"
     ]
    }
   ],
   "source": [
    "print (X)"
   ]
  },
  {
   "cell_type": "code",
   "execution_count": 39,
   "metadata": {},
   "outputs": [],
   "source": [
    "X_new=X[:,1]\n"
   ]
  },
  {
   "cell_type": "code",
   "execution_count": 40,
   "metadata": {},
   "outputs": [],
   "source": [
    "X_new=np.reshape(X_new,(-1,1))"
   ]
  },
  {
   "cell_type": "code",
   "execution_count": 41,
   "metadata": {},
   "outputs": [
    {
     "name": "stdout",
     "output_type": "stream",
     "text": [
      "[[1]\n",
      " [3]\n",
      " [3]\n",
      " ...\n",
      " [0]\n",
      " [2]\n",
      " [0]]\n"
     ]
    }
   ],
   "source": [
    "print(X_new)"
   ]
  },
  {
   "cell_type": "code",
   "execution_count": 42,
   "metadata": {},
   "outputs": [],
   "source": [
    "from sklearn.cluster import KMeans"
   ]
  },
  {
   "cell_type": "code",
   "execution_count": 43,
   "metadata": {},
   "outputs": [],
   "source": [
    "kmeans = KMeans( n_clusters=3,random_state=10)"
   ]
  },
  {
   "cell_type": "code",
   "execution_count": 44,
   "metadata": {},
   "outputs": [],
   "source": [
    "Y_pred = kmeans.fit_predict(X_new)"
   ]
  },
  {
   "cell_type": "code",
   "execution_count": 45,
   "metadata": {},
   "outputs": [
    {
     "data": {
      "text/plain": [
       "array([0, 2, 2, ..., 0, 2, 0])"
      ]
     },
     "execution_count": 45,
     "metadata": {},
     "output_type": "execute_result"
    }
   ],
   "source": [
    "Y_pred"
   ]
  },
  {
   "cell_type": "code",
   "execution_count": 68,
   "metadata": {},
   "outputs": [
    {
     "data": {
      "text/plain": [
       "<Figure size 720x504 with 0 Axes>"
      ]
     },
     "metadata": {},
     "output_type": "display_data"
    }
   ],
   "source": [
    "fig = plt.figure(figsize=(10, 7))\n"
   ]
  },
  {
   "cell_type": "code",
   "execution_count": 98,
   "metadata": {},
   "outputs": [
    {
     "data": {
      "image/png": "[encoded data removed]",
      "text/plain": [
       "<Figure size 432x288 with 1 Axes>"
      ]
     },
     "metadata": {
      "needs_background": "light"
     },
     "output_type": "display_data"
    }
   ],
   "source": [
    "# Visualising the clusters\n",
    "#plt.scatter(X,Y_pred)\n",
    "#Y==>0th col(Total sales)\n",
    "#X==>1st col(no.of brands)\n",
    "plt.scatter(X[Y_pred == 0, 1], X[Y_pred == 0, 0], s = 100, c = \"#ff0000\", label = \"Category C\")\n",
    "plt.scatter(X[Y_pred == 1, 1], X[Y_pred == 1, 0], s = 100, c = \"#0000ff\", label = \"Category A\")\n",
    "plt.scatter(X[Y_pred == 2, 1], X[Y_pred == 2, 0], s = 100, c = \"#00ff00\", label = \"Category B\")\n",
    "plt.title(\"Clusters of Retailer\")\n",
    "plt.ylabel(\"Sales\")\n",
    "plt.xlabel(\"No.of brands\")\n",
    "plt.legend()\n",
    "plt.show()\n",
    "\n",
    "\n",
    "\n",
    "\n",
    "\n",
    "\n"
   ]
  },
  {
   "cell_type": "code",
   "execution_count": 101,
   "metadata": {},
   "outputs": [
    {
     "data": {
      "text/html": [
       "<div>\n",
       "<style scoped>\n",
       "    .dataframe tbody tr th:only-of-type {\n",
       "        vertical-align: middle;\n",
       "    }\n",
       "\n",
       "    .dataframe tbody tr th {\n",
       "        vertical-align: top;\n",
       "    }\n",
       "\n",
       "    .dataframe thead th {\n",
       "        text-align: right;\n",
       "    }\n",
       "</style>\n",
       "<table border=\"1\" class=\"dataframe\">\n",
       "  <thead>\n",
       "    <tr style=\"text-align: right;\">\n",
       "      <th></th>\n",
       "      <th>Retailer Name</th>\n",
       "      <th>Brand1</th>\n",
       "      <th>Brand2</th>\n",
       "      <th>Brand3</th>\n",
       "      <th>Brand4</th>\n",
       "      <th>Brand5</th>\n",
       "      <th>Brand6</th>\n",
       "      <th>Brand7</th>\n",
       "      <th>Brand8</th>\n",
       "      <th>Brand9</th>\n",
       "      <th>Brand10</th>\n",
       "      <th>Brand11</th>\n",
       "      <th>Brand12</th>\n",
       "      <th>Total Sales</th>\n",
       "      <th>Number of Brands</th>\n",
       "      <th>Category of Retailer</th>\n",
       "    </tr>\n",
       "  </thead>\n",
       "  <tbody>\n",
       "    <tr>\n",
       "      <th>0</th>\n",
       "      <td>Retailer 1</td>\n",
       "      <td>0.0000</td>\n",
       "      <td>0.0</td>\n",
       "      <td>0.0</td>\n",
       "      <td>0.000</td>\n",
       "      <td>0.0000</td>\n",
       "      <td>0.0</td>\n",
       "      <td>0.0</td>\n",
       "      <td>0.0</td>\n",
       "      <td>0.000</td>\n",
       "      <td>30826.61</td>\n",
       "      <td>0.0</td>\n",
       "      <td>0.0</td>\n",
       "      <td>30826.6100</td>\n",
       "      <td>1</td>\n",
       "      <td>Category C</td>\n",
       "    </tr>\n",
       "    <tr>\n",
       "      <th>1</th>\n",
       "      <td>Retailer 2</td>\n",
       "      <td>9833.1060</td>\n",
       "      <td>0.0</td>\n",
       "      <td>0.0</td>\n",
       "      <td>24073.632</td>\n",
       "      <td>33806.4312</td>\n",
       "      <td>0.0</td>\n",
       "      <td>0.0</td>\n",
       "      <td>0.0</td>\n",
       "      <td>0.000</td>\n",
       "      <td>0.00</td>\n",
       "      <td>0.0</td>\n",
       "      <td>0.0</td>\n",
       "      <td>67713.1692</td>\n",
       "      <td>3</td>\n",
       "      <td>Category B</td>\n",
       "    </tr>\n",
       "    <tr>\n",
       "      <th>2</th>\n",
       "      <td>Retailer 3</td>\n",
       "      <td>24690.6708</td>\n",
       "      <td>0.0</td>\n",
       "      <td>0.0</td>\n",
       "      <td>0.000</td>\n",
       "      <td>27367.0386</td>\n",
       "      <td>0.0</td>\n",
       "      <td>0.0</td>\n",
       "      <td>0.0</td>\n",
       "      <td>12948.696</td>\n",
       "      <td>0.00</td>\n",
       "      <td>0.0</td>\n",
       "      <td>0.0</td>\n",
       "      <td>65006.4054</td>\n",
       "      <td>3</td>\n",
       "      <td>Category B</td>\n",
       "    </tr>\n",
       "    <tr>\n",
       "      <th>3</th>\n",
       "      <td>Retailer 4</td>\n",
       "      <td>0.0000</td>\n",
       "      <td>0.0</td>\n",
       "      <td>0.0</td>\n",
       "      <td>0.000</td>\n",
       "      <td>0.0000</td>\n",
       "      <td>0.0</td>\n",
       "      <td>0.0</td>\n",
       "      <td>0.0</td>\n",
       "      <td>0.000</td>\n",
       "      <td>0.00</td>\n",
       "      <td>0.0</td>\n",
       "      <td>0.0</td>\n",
       "      <td>0.0000</td>\n",
       "      <td>0</td>\n",
       "      <td>Category C</td>\n",
       "    </tr>\n",
       "    <tr>\n",
       "      <th>4</th>\n",
       "      <td>Retailer 5</td>\n",
       "      <td>0.0000</td>\n",
       "      <td>0.0</td>\n",
       "      <td>0.0</td>\n",
       "      <td>0.000</td>\n",
       "      <td>0.0000</td>\n",
       "      <td>0.0</td>\n",
       "      <td>0.0</td>\n",
       "      <td>0.0</td>\n",
       "      <td>0.000</td>\n",
       "      <td>0.00</td>\n",
       "      <td>0.0</td>\n",
       "      <td>0.0</td>\n",
       "      <td>0.0000</td>\n",
       "      <td>0</td>\n",
       "      <td>Category C</td>\n",
       "    </tr>\n",
       "  </tbody>\n",
       "</table>\n",
       "</div>"
      ],
      "text/plain": [
       "  Retailer Name      Brand1  Brand2  Brand3     Brand4      Brand5  Brand6  \\\n",
       "0    Retailer 1      0.0000     0.0     0.0      0.000      0.0000     0.0   \n",
       "1    Retailer 2   9833.1060     0.0     0.0  24073.632  33806.4312     0.0   \n",
       "2    Retailer 3  24690.6708     0.0     0.0      0.000  27367.0386     0.0   \n",
       "3    Retailer 4      0.0000     0.0     0.0      0.000      0.0000     0.0   \n",
       "4    Retailer 5      0.0000     0.0     0.0      0.000      0.0000     0.0   \n",
       "\n",
       "   Brand7  Brand8     Brand9   Brand10  Brand11  Brand12  Total Sales  \\\n",
       "0     0.0     0.0      0.000  30826.61      0.0      0.0   30826.6100   \n",
       "1     0.0     0.0      0.000      0.00      0.0      0.0   67713.1692   \n",
       "2     0.0     0.0  12948.696      0.00      0.0      0.0   65006.4054   \n",
       "3     0.0     0.0      0.000      0.00      0.0      0.0       0.0000   \n",
       "4     0.0     0.0      0.000      0.00      0.0      0.0       0.0000   \n",
       "\n",
       "   Number of Brands Category of Retailer  \n",
       "0                 1           Category C  \n",
       "1                 3           Category B  \n",
       "2                 3           Category B  \n",
       "3                 0           Category C  \n",
       "4                 0           Category C  "
      ]
     },
     "execution_count": 101,
     "metadata": {},
     "output_type": "execute_result"
    }
   ],
   "source": [
    "df[\"Category of Retailer\"]=Y_pred\n",
    "df[\"Category of Retailer\"]=df[\"Category of Retailer\"].map({0:\"Category C\",1:\"Category A\",2:\"Category B\"})\n",
    "df.head()"
   ]
  },
  {
   "cell_type": "code",
   "execution_count": 105,
   "metadata": {},
   "outputs": [
    {
     "data": {
      "text/plain": [
       "Category C    7902\n",
       "Category B    1294\n",
       "Category A     742\n",
       "Name: Category of Retailer, dtype: int64"
      ]
     },
     "execution_count": 105,
     "metadata": {},
     "output_type": "execute_result"
    }
   ],
   "source": [
    "df.to_excel(\"Retailer Segmentation.xlsx\")\n",
    "df[\"Category of Retailer\"].value_counts()"
   ]
  }
 ],
 "metadata": {
  "kernelspec": {
   "display_name": "Python 3",
   "language": "python",
   "name": "python3"
  },
  "language_info": {
   "codemirror_mode": {
    "name": "ipython",
    "version": 3
   },
   "file_extension": ".py",
   "mimetype": "text/x-python",
   "name": "python",
   "nbconvert_exporter": "python",
   "pygments_lexer": "ipython3",
   "version": "3.8.5"
  }
 },
 "nbformat": 4,
 "nbformat_minor": 4
}
